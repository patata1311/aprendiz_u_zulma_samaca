{
 "cells": [
  {
   "cell_type": "markdown",
   "id": "f9710fd9-5c46-4901-a3e6-91d9088061c3",
   "metadata": {},
   "source": [
    "## Ejercicios.\n",
    "\n",
    "Los datos provistos son datos ficticios que representan los pagos que realiza una compañía de seguros para cada uno de los siniestros reportados durante el mes de Enero del Año 2023.\n",
    "\n",
    "1. Cargue los datos que se encuentran en la carpeta `data`, tanto el archivo de `claims.csv`, como los archivos de `claims_payments.csv`.\n",
    "2. Remueva los duplicados, y conserve unicamente un único registro por `claim_id`, y este, deberá ser el registro más nuevo de la base de datos según `claim_date`, y resuelva los siguientes puntos en base a este nuevo dataset.\n",
    "3. Una vez realice este proceso, deberá responder las siguientes preguntas:\n",
    "   1. Cuantos siniestros distintos han ocurrido por cada uno de los días?\n",
    "   2. Existen días que no tienen ningún siniestro? Cuales son estos?\n",
    "   3. Cuantos registros tienen **nulos** en su campo `claim_date`?. Que porcentaje del total de la base representan?\n",
    "   4. Cuál es el día que tiene **más**, y el día que tiene **menos** siniestros reportados? Que porcentaje de del total de la base representa?\n",
    "   5. Cuál es la marca de vehiculos que **más** presenta siniestros, y cual es la marca que **menos** siniestros presenta?\n",
    "   6. Cuál es el valor de pago más alto que ha realizado la compañia?\n",
    "   7. Muestre por marca de vehículo, los valores de pagos realizados por concepto de `PÉRDIDA PARCIAL`.\n",
    "   8. Cuales son los **3 primeros** tipos de pagos **más** frecuente en la compañía?\n",
    "   9. Cuál es el número de días **mínimo, máximo**, y **promedio**, que han transcurrido entre un siniestro y el pago de la compañia?\n",
    "   10. Cuantos siniestros aún no han recibido ningún pago de la compañia? Que porcentaje de la base representan?\n",
    "\n",
    "\n",
    "4. Exporte el archivo consolidado, el cual contiene para cada `claim_id` la información de los pagos realizados por la compañia. Cada archivo se debe guardar por día, usando la siguiente nomenclatura: `payment_report_yyyy_mm_dd.csv`, donde `yyyy` hace referencia al año del siniestro, `mm` representa el mes del siniestro y `dd` representa el día del siniestro. Ejemplo: `payment_report_2023_01_05.csv`, `payment_report_2023_01_06.csv`, `...`.\n",
    "5. Mueva los archivos que exportó a la carpeta `reporting`, usando Python."
   ]
  },
  {
   "cell_type": "markdown",
   "id": "600127e8-3c71-4ccc-9558-5fc40952c2dd",
   "metadata": {},
   "source": [
    "## Solución"
   ]
  },
  {
   "cell_type": "code",
   "execution_count": 20,
   "id": "db0c7811-e2fe-488d-a87a-3986e18bd260",
   "metadata": {},
   "outputs": [],
   "source": [
    "\n",
    "import pandas as pd\n",
    "import numpy as np\n",
    "import os"
   ]
  },
  {
   "cell_type": "code",
   "execution_count": 7,
   "metadata": {},
   "outputs": [
    {
     "name": "stdout",
     "output_type": "stream",
     "text": [
      "<class 'pandas.core.frame.DataFrame'>\n",
      "Index: 946 entries, 776 to 954\n",
      "Data columns (total 5 columns):\n",
      " #   Column                Non-Null Count  Dtype              \n",
      "---  ------                --------------  -----              \n",
      " 0   claim_id              946 non-null    int64              \n",
      " 1   claim_date            911 non-null    datetime64[ns, UTC]\n",
      " 2   vehicle_model         946 non-null    int64              \n",
      " 3   vehicle_brand         946 non-null    object             \n",
      " 4   vehicle_market_value  946 non-null    float64            \n",
      "dtypes: datetime64[ns, UTC](1), float64(1), int64(2), object(1)\n",
      "memory usage: 44.3+ KB\n",
      "None\n",
      "     claim_id                claim_date  vehicle_model vehicle_brand  \\\n",
      "776        26 2023-01-03 00:00:00+00:00           2000     CHEVROLET   \n",
      "12         36 2023-01-27 00:00:00+00:00           2012       PEUGEOT   \n",
      "882        45 2023-01-06 00:00:00+00:00           2010     CHEVROLET   \n",
      "230        46 2023-01-06 00:00:00+00:00           2019        NISSAN   \n",
      "163        49 2023-01-08 00:00:00+00:00           1994        TOYOTA   \n",
      "\n",
      "     vehicle_market_value  \n",
      "776           303000000.0  \n",
      "12            352000000.0  \n",
      "882           310000000.0  \n",
      "230           868000000.0  \n",
      "163           719000000.0  \n"
     ]
    }
   ],
   "source": [
    "\n",
    "claims_data = pd.read_csv('data/claims.csv', delimiter=';')\n",
    "payments_data = pd.read_csv('data/payments.csv', delimiter=';', encoding='ISO-8859-1')\n",
    "\n",
    "claims_head = claims_data.tail()\n",
    "payments_head = payments_data.head()\n",
    "\n",
    "claims_data['claim_date'] = pd.to_datetime(claims_data['claim_date'])\n",
    "payments_data['payment_date'] = pd.to_datetime(payments_data['payment_date'])\n",
    "\n",
    "claims_data.sort_values(by=['claim_id', 'claim_date'], ascending=[True, False], inplace=True)\n",
    "\n",
    "claims_data_deduplicated = claims_data.drop_duplicates(subset='claim_id', keep='first')\n",
    "\n",
    "claims_data_deduplicated.to_csv('reporting/claims_deduplicated.csv', index=False, sep=';')\n",
    "\n",
    "print(claims_data_deduplicated.info())\n",
    "print(claims_data_deduplicated.head())"
   ]
  },
  {
   "cell_type": "code",
   "execution_count": 8,
   "metadata": {},
   "outputs": [
    {
     "name": "stdout",
     "output_type": "stream",
     "text": [
      "claim_date\n",
      "2023-01-02    30\n",
      "2023-01-03    38\n",
      "2023-01-04    31\n",
      "2023-01-05    26\n",
      "2023-01-06    27\n",
      "2023-01-07    29\n",
      "2023-01-08    35\n",
      "2023-01-09    29\n",
      "2023-01-10    31\n",
      "2023-01-11    32\n",
      "2023-01-12    27\n",
      "2023-01-13    27\n",
      "2023-01-14    33\n",
      "2023-01-16    32\n",
      "2023-01-17    29\n",
      "2023-01-18    33\n",
      "2023-01-19    29\n",
      "2023-01-20    29\n",
      "2023-01-21    37\n",
      "2023-01-22    37\n",
      "2023-01-23    47\n",
      "2023-01-24    28\n",
      "2023-01-25    26\n",
      "2023-01-26    32\n",
      "2023-01-27    23\n",
      "2023-01-28    42\n",
      "2023-01-29    19\n",
      "2023-01-30    35\n",
      "2023-01-31    38\n",
      "Name: claim_id, dtype: int64\n"
     ]
    }
   ],
   "source": [
    "siniestros_por_dia = claims_data_deduplicated.groupby(claims_data_deduplicated['claim_date'].dt.date)['claim_id'].count()\n",
    "print(siniestros_por_dia)"
   ]
  },
  {
   "cell_type": "code",
   "execution_count": 9,
   "metadata": {},
   "outputs": [
    {
     "name": "stdout",
     "output_type": "stream",
     "text": [
      "Series([], Name: claim_id, dtype: int64)\n",
      "No hay días sin siniestros en los datos.\n"
     ]
    }
   ],
   "source": [
    "dias_sin_siniestros = siniestros_por_dia[siniestros_por_dia == 0]\n",
    "print(dias_sin_siniestros)\n",
    "if dias_sin_siniestros.empty:\n",
    "    print(\"No hay días sin siniestros en los datos.\")\n",
    "else:\n",
    "    print(\"Días sin siniestros:\")\n",
    "    print(dias_sin_siniestros)"
   ]
  },
  {
   "cell_type": "code",
   "execution_count": 10,
   "metadata": {},
   "outputs": [
    {
     "name": "stdout",
     "output_type": "stream",
     "text": [
      "Registros nulos en 'claim_date': 35, Porcentaje: 3.70%\n"
     ]
    }
   ],
   "source": [
    "registros_nulos = claims_data_deduplicated['claim_date'].isnull().sum()\n",
    "porcentaje_nulos = (registros_nulos / len(claims_data_deduplicated)) * 100\n",
    "print(f\"Registros nulos en 'claim_date': {registros_nulos}, Porcentaje: {porcentaje_nulos:.2f}%\")"
   ]
  },
  {
   "cell_type": "code",
   "execution_count": 11,
   "metadata": {},
   "outputs": [
    {
     "name": "stdout",
     "output_type": "stream",
     "text": [
      "Día con más siniestros (47 siniestros): 2023-01-23, Porcentaje: 4.97%\n",
      "Día con menos siniestros (19 siniestros): 2023-01-29, Porcentaje: 2.01%\n"
     ]
    }
   ],
   "source": [
    "dia_max_siniestros = siniestros_por_dia.idxmax()\n",
    "dia_min_siniestros = siniestros_por_dia.idxmin()\n",
    "max_siniestros = siniestros_por_dia.max()\n",
    "min_siniestros = siniestros_por_dia.min()\n",
    "porcentaje_max = (max_siniestros / len(claims_data_deduplicated)) * 100\n",
    "porcentaje_min = (min_siniestros / len(claims_data_deduplicated)) * 100\n",
    "\n",
    "print(f\"Día con más siniestros ({max_siniestros} siniestros): {dia_max_siniestros}, Porcentaje: {porcentaje_max:.2f}%\")\n",
    "print(f\"Día con menos siniestros ({min_siniestros} siniestros): {dia_min_siniestros}, Porcentaje: {porcentaje_min:.2f}%\")"
   ]
  },
  {
   "cell_type": "code",
   "execution_count": 12,
   "metadata": {},
   "outputs": [
    {
     "name": "stdout",
     "output_type": "stream",
     "text": [
      "Marca con más siniestros: CHEVROLET\n",
      "Marca con menos siniestros: MAZDA\n"
     ]
    }
   ],
   "source": [
    "marca_mas_siniestros = claims_data_deduplicated['vehicle_brand'].value_counts().idxmax()\n",
    "marca_menos_siniestros = claims_data_deduplicated['vehicle_brand'].value_counts().idxmin()\n",
    "\n",
    "print(f\"Marca con más siniestros: {marca_mas_siniestros}\")\n",
    "print(f\"Marca con menos siniestros: {marca_menos_siniestros}\")"
   ]
  },
  {
   "cell_type": "code",
   "execution_count": 13,
   "metadata": {},
   "outputs": [
    {
     "name": "stdout",
     "output_type": "stream",
     "text": [
      "Valor de pago más alto realizado por la compañía: 99000000.0\n"
     ]
    }
   ],
   "source": [
    "valor_pago_maximo = payments_data['payment_value'].max()\n",
    "print(f\"Valor de pago más alto realizado por la compañía: {valor_pago_maximo}\")"
   ]
  },
  {
   "cell_type": "code",
   "execution_count": 14,
   "metadata": {},
   "outputs": [
    {
     "name": "stdout",
     "output_type": "stream",
     "text": [
      "vehicle_brand\n",
      "CHEVROLET    517000000.0\n",
      "MAZDA        140000000.0\n",
      "NISSAN       231000000.0\n",
      "PEUGEOT        8000000.0\n",
      "RENAULT      182000000.0\n",
      "SUBARU        99000000.0\n",
      "TOYOTA       330000000.0\n",
      "Name: payment_value, dtype: float64\n"
     ]
    }
   ],
   "source": [
    "datos_combinados = payments_data.merge(claims_data_deduplicated, left_on='claim_id', right_index=True, how='inner')\n",
    "\n",
    "pagos_perdida_parcial = datos_combinados[datos_combinados['payment_type'] == 'PÉRDIDA PARCIAL']\n",
    "\n",
    "pagos_por_marca = pagos_perdida_parcial.groupby('vehicle_brand')['payment_value'].sum()\n",
    "print(pagos_por_marca)"
   ]
  },
  {
   "cell_type": "code",
   "execution_count": null,
   "metadata": {},
   "outputs": [],
   "source": [
    "tipos_pagos_mas_frecuentes = payments_data['payment_type'].value_counts().head(3)\n",
    "print(tipos_pagos_mas_frecuentes)"
   ]
  },
  {
   "cell_type": "code",
   "execution_count": null,
   "metadata": {},
   "outputs": [],
   "source": [
    "diferencia_dias = (payments_data['payment_date'] - claims_data_deduplicated['claim_date']).dt.days.abs()\n",
    "\n",
    "min_dias = diferencia_dias.min()\n",
    "max_dias = diferencia_dias.max()\n",
    "promedio_dias = diferencia_dias.mean()\n",
    "\n",
    "print(f\"Número mínimo de días: {min_dias}\")\n",
    "print(f\"Número máximo de días: {max_dias}\")\n",
    "print(f\"Número promedio de días: {promedio_dias:.2f}\")"
   ]
  },
  {
   "cell_type": "code",
   "execution_count": null,
   "metadata": {},
   "outputs": [],
   "source": [
    "siniestros_sin_pago = len(claims_data_deduplicated[~claims_data_deduplicated['claim_id'].isin(payments_data['claim_id'])])\n",
    "porcentaje_sin_pago = (siniestros_sin_pago / len(claims_data_deduplicated)) * 100\n",
    "\n",
    "print(f\"Siniestros sin ningún pago: {siniestros_sin_pago}, Porcentaje: {porcentaje_sin_pago:.2f}%\")"
   ]
  },
  {
   "cell_type": "code",
   "execution_count": 27,
   "metadata": {},
   "outputs": [],
   "source": [
    "\n",
    "grouped_payments = payments_data.groupby(payments_data['payment_date'].dt.date)\n",
    "for date, group in grouped_payments:\n",
    "\n",
    "    file_name = f\"payment_report_{date:%Y_%m_%d}.csv\"\n",
    "    \n",
    "    file_path = file_name\n",
    "    group.to_csv(file_path, index=False, sep=';')\n",
    "\n",
    "    source_path = os.path.abspath(file_path)\n",
    "    target_directory = 'reporting'\n",
    "    target_path = os.path.abspath(f\"{target_directory}/{file_name}\")\n",
    "    os.rename(source_path, target_path)"
   ]
  }
 ],
 "metadata": {
  "kernelspec": {
   "display_name": "Python 3 (ipykernel)",
   "language": "python",
   "name": "python3"
  },
  "language_info": {
   "codemirror_mode": {
    "name": "ipython",
    "version": 3
   },
   "file_extension": ".py",
   "mimetype": "text/x-python",
   "name": "python",
   "nbconvert_exporter": "python",
   "pygments_lexer": "ipython3",
   "version": "3.11.5"
  }
 },
 "nbformat": 4,
 "nbformat_minor": 5
}
